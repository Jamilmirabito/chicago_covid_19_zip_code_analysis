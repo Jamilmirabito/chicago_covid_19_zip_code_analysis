{
 "cells": [
  {
   "cell_type": "markdown",
   "metadata": {},
   "source": [
    "# Two-Week Average Positivity Rate by Zip Code"
   ]
  },
  {
   "cell_type": "code",
   "execution_count": 124,
   "metadata": {},
   "outputs": [],
   "source": [
    "import pandas as pd\n",
    "import numpy as np\n",
    "import matplotlib.pyplot as plt\n",
    "%matplotlib inline\n",
    "pd.set_option('display.max_columns', 100)"
   ]
  },
  {
   "cell_type": "code",
   "execution_count": 175,
   "metadata": {},
   "outputs": [],
   "source": [
    "df = pd.read_csv('COVID-19_Cases__Tests__and_Deaths_by_ZIP_Code.csv')"
   ]
  },
  {
   "cell_type": "code",
   "execution_count": 176,
   "metadata": {},
   "outputs": [
    {
     "data": {
      "text/plain": [
       "array(['60601', '60603', '60620', '60624', '60606', '60607', '60608',\n",
       "       '60626', '60602', '60609', '60610', '60611', '60612', '60623',\n",
       "       '60613', '60614', '60615', '60617', '60618', '60619', '60621',\n",
       "       '60622', '60604', '60625', '60628', '60605', '60629', '60631',\n",
       "       '60632', '60640', '60633', '60634', '60630', '60636', '60637',\n",
       "       'Unknown', '60638', '60639', '60641', '60649', '60652', '60827',\n",
       "       '60656', '60659', '60707', '60661', '60642', '60643', '60644',\n",
       "       '60645', '60646', '60647', '60651', '60653', '60654', '60660',\n",
       "       '60655', '60657', '60666', '60616'], dtype=object)"
      ]
     },
     "execution_count": 176,
     "metadata": {},
     "output_type": "execute_result"
    }
   ],
   "source": [
    "df['ZIP Code'].unique()"
   ]
  },
  {
   "cell_type": "code",
   "execution_count": 177,
   "metadata": {},
   "outputs": [],
   "source": [
    "# Removing unknown zip codes and zip codes that are not entirely in chicago. Also removing the zip code for Ohare\n",
    "# as no one lives there.\n",
    "df = df[(df['ZIP Code']!= 'Unknown')&(df['ZIP Code']!='60707')&(df['ZIP Code']!='60827')&(df['ZIP Code']!='60666')]"
   ]
  },
  {
   "cell_type": "code",
   "execution_count": 178,
   "metadata": {},
   "outputs": [],
   "source": [
    "weeks = sorted(list(df['Week Number'].unique()))"
   ]
  },
  {
   "cell_type": "code",
   "execution_count": 179,
   "metadata": {},
   "outputs": [],
   "source": [
    "# Confining the data to just the last 2 weeks\n",
    "df = df[(df['Week Number']==weeks[-2])|(df['Week Number']==weeks[-1])]"
   ]
  },
  {
   "cell_type": "markdown",
   "metadata": {},
   "source": [
    "## Creating Column for 2-week Avg Positivity Rate"
   ]
  },
  {
   "cell_type": "code",
   "execution_count": 131,
   "metadata": {},
   "outputs": [],
   "source": [
    "# Calculate percentage to get a more granular percentage than that which is already provided in the dataset\n",
    "two_wk_avg_pos = pd.DataFrame(df.groupby(['ZIP Code'])['Cases - Weekly'].sum()/df.groupby(['ZIP Code'])['Tests - Weekly'].sum())"
   ]
  },
  {
   "cell_type": "code",
   "execution_count": 132,
   "metadata": {},
   "outputs": [],
   "source": [
    "# Convert to dataframe to merge into census dataframe\n",
    "two_wk_avg_pos.reset_index(inplace=True)\n",
    "two_wk_avg_pos.columns = ['ZCTA', 'posRate']"
   ]
  },
  {
   "cell_type": "code",
   "execution_count": 133,
   "metadata": {},
   "outputs": [],
   "source": [
    "# Filling null value with 0 for zero confirmed cases in OHare (because no residents)\n",
    "two_wk_avg_pos.posRate = two_wk_avg_pos.posRate.fillna('0')"
   ]
  },
  {
   "cell_type": "markdown",
   "metadata": {},
   "source": [
    "## Creating Column for Number of Tests Administered "
   ]
  },
  {
   "cell_type": "code",
   "execution_count": 134,
   "metadata": {},
   "outputs": [],
   "source": [
    "# Calculate extracting the toal number of tests administered by zip code to later calculate the percentage of \n",
    "# population tested in the 2 week period\n",
    "testing_df = pd.DataFrame(df.groupby(['ZIP Code'])['Tests - Weekly'].sum()).reset_index()\n",
    "\n",
    "# Rename columns\n",
    "testing_df.columns = ['ZCTA', 'tests2weeks']"
   ]
  },
  {
   "cell_type": "code",
   "execution_count": 135,
   "metadata": {},
   "outputs": [],
   "source": [
    "# merging 2-week average positivity df with zip coordinates\n",
    "fin_df = pd.merge(two_wk_avg_pos, testing_df, on='ZCTA')"
   ]
  },
  {
   "cell_type": "markdown",
   "metadata": {},
   "source": [
    "## Creating Column for Distance from Testing Site\n",
    "\n",
    "### Gathering Zip Code Lat/Lon"
   ]
  },
  {
   "cell_type": "code",
   "execution_count": 136,
   "metadata": {},
   "outputs": [],
   "source": [
    "# Removing duplicate zip codes\n",
    "df = df.drop_duplicates(subset=['ZIP Code'], keep='first')"
   ]
  },
  {
   "cell_type": "code",
   "execution_count": 137,
   "metadata": {},
   "outputs": [],
   "source": [
    "# Add in zip coordinates. I'll use this to later calculate distance to testing centers.\n",
    "# Creating individual df with zip code and zip code location\n",
    "coords = df[['ZIP Code', 'ZIP Code Location']]"
   ]
  },
  {
   "cell_type": "code",
   "execution_count": 138,
   "metadata": {},
   "outputs": [],
   "source": [
    "# Renaming columns for merge\n",
    "coords.columns = ['ZCTA', 'coords']"
   ]
  },
  {
   "cell_type": "code",
   "execution_count": 139,
   "metadata": {},
   "outputs": [
    {
     "data": {
      "text/html": [
       "<div>\n",
       "<style scoped>\n",
       "    .dataframe tbody tr th:only-of-type {\n",
       "        vertical-align: middle;\n",
       "    }\n",
       "\n",
       "    .dataframe tbody tr th {\n",
       "        vertical-align: top;\n",
       "    }\n",
       "\n",
       "    .dataframe thead th {\n",
       "        text-align: right;\n",
       "    }\n",
       "</style>\n",
       "<table border=\"1\" class=\"dataframe\">\n",
       "  <thead>\n",
       "    <tr style=\"text-align: right;\">\n",
       "      <th></th>\n",
       "      <th>ZCTA</th>\n",
       "      <th>coords</th>\n",
       "    </tr>\n",
       "  </thead>\n",
       "  <tbody>\n",
       "    <tr>\n",
       "      <th>0</th>\n",
       "      <td>60601</td>\n",
       "      <td>POINT (-87.622844 41.886262)</td>\n",
       "    </tr>\n",
       "    <tr>\n",
       "      <th>1</th>\n",
       "      <td>60603</td>\n",
       "      <td>POINT (-87.625473 41.880112)</td>\n",
       "    </tr>\n",
       "    <tr>\n",
       "      <th>17</th>\n",
       "      <td>60606</td>\n",
       "      <td>POINT (-87.63676 41.882634)</td>\n",
       "    </tr>\n",
       "    <tr>\n",
       "      <th>18</th>\n",
       "      <td>60607</td>\n",
       "      <td>POINT (-87.652727 41.876104)</td>\n",
       "    </tr>\n",
       "    <tr>\n",
       "      <th>22</th>\n",
       "      <td>60608</td>\n",
       "      <td>POINT (-87.670366 41.849879)</td>\n",
       "    </tr>\n",
       "  </tbody>\n",
       "</table>\n",
       "</div>"
      ],
      "text/plain": [
       "     ZCTA                        coords\n",
       "0   60601  POINT (-87.622844 41.886262)\n",
       "1   60603  POINT (-87.625473 41.880112)\n",
       "17  60606   POINT (-87.63676 41.882634)\n",
       "18  60607  POINT (-87.652727 41.876104)\n",
       "22  60608  POINT (-87.670366 41.849879)"
      ]
     },
     "execution_count": 139,
     "metadata": {},
     "output_type": "execute_result"
    }
   ],
   "source": [
    "coords.head()"
   ]
  },
  {
   "cell_type": "markdown",
   "metadata": {},
   "source": [
    "### Getting Testing Site Lat/Lon"
   ]
  },
  {
   "cell_type": "code",
   "execution_count": 140,
   "metadata": {},
   "outputs": [],
   "source": [
    "testing_loc = pd.read_csv('COVID-19_Testing_Sites.csv')"
   ]
  },
  {
   "cell_type": "code",
   "execution_count": 141,
   "metadata": {},
   "outputs": [],
   "source": [
    "testing_loc = testing_loc[['Facility', 'Address', 'Location']]"
   ]
  },
  {
   "cell_type": "code",
   "execution_count": 142,
   "metadata": {},
   "outputs": [],
   "source": [
    "# Manually filling NaN with missing lat and lon\n",
    "testing_loc.Location[0] = 'POINT (-87.705330 41.805860)'"
   ]
  },
  {
   "cell_type": "code",
   "execution_count": 143,
   "metadata": {},
   "outputs": [
    {
     "data": {
      "text/plain": [
       "(131, 3)"
      ]
     },
     "execution_count": 143,
     "metadata": {},
     "output_type": "execute_result"
    }
   ],
   "source": [
    "# Dropping Howard Brown Health Mobile since there is no specific location attached to the testing site\n",
    "testing_loc.dropna(inplace=True)\n",
    "testing_loc.shape"
   ]
  },
  {
   "cell_type": "code",
   "execution_count": 144,
   "metadata": {},
   "outputs": [
    {
     "data": {
      "text/html": [
       "<div>\n",
       "<style scoped>\n",
       "    .dataframe tbody tr th:only-of-type {\n",
       "        vertical-align: middle;\n",
       "    }\n",
       "\n",
       "    .dataframe tbody tr th {\n",
       "        vertical-align: top;\n",
       "    }\n",
       "\n",
       "    .dataframe thead th {\n",
       "        text-align: right;\n",
       "    }\n",
       "</style>\n",
       "<table border=\"1\" class=\"dataframe\">\n",
       "  <thead>\n",
       "    <tr style=\"text-align: right;\">\n",
       "      <th></th>\n",
       "      <th>Facility</th>\n",
       "      <th>Address</th>\n",
       "      <th>Location</th>\n",
       "    </tr>\n",
       "  </thead>\n",
       "  <tbody>\n",
       "    <tr>\n",
       "      <th>0</th>\n",
       "      <td>ACCESS Kedzie Family Health Center</td>\n",
       "      <td>3229-3243 W 47th Pl Chicago, IL 60632</td>\n",
       "      <td>POINT (-87.705330 41.805860)</td>\n",
       "    </tr>\n",
       "    <tr>\n",
       "      <th>1</th>\n",
       "      <td>Howard Brown Health 63rd St</td>\n",
       "      <td>641 W 63rd St Chicago, IL 60621</td>\n",
       "      <td>POINT (-87.64124500000001 41.77981400000001)</td>\n",
       "    </tr>\n",
       "    <tr>\n",
       "      <th>2</th>\n",
       "      <td>Norwegian American Hospital</td>\n",
       "      <td>1044 N Francisco Ave Chicago, IL 60622</td>\n",
       "      <td>POINT (-87.699288 41.900481)</td>\n",
       "    </tr>\n",
       "    <tr>\n",
       "      <th>3</th>\n",
       "      <td>Aayu Clinics - Lakeview</td>\n",
       "      <td>1645 A W School St Chicago, IL 60657</td>\n",
       "      <td>POINT (-87.670228 41.941508)</td>\n",
       "    </tr>\n",
       "    <tr>\n",
       "      <th>4</th>\n",
       "      <td>Michigan Avenue Primary Care</td>\n",
       "      <td>180 N Michigan Ave #1720 Chicago, IL 60601</td>\n",
       "      <td>POINT (-87.624569 41.885151)</td>\n",
       "    </tr>\n",
       "  </tbody>\n",
       "</table>\n",
       "</div>"
      ],
      "text/plain": [
       "                             Facility  \\\n",
       "0  ACCESS Kedzie Family Health Center   \n",
       "1         Howard Brown Health 63rd St   \n",
       "2         Norwegian American Hospital   \n",
       "3             Aayu Clinics - Lakeview   \n",
       "4        Michigan Avenue Primary Care   \n",
       "\n",
       "                                      Address  \\\n",
       "0       3229-3243 W 47th Pl Chicago, IL 60632   \n",
       "1             641 W 63rd St Chicago, IL 60621   \n",
       "2      1044 N Francisco Ave Chicago, IL 60622   \n",
       "3        1645 A W School St Chicago, IL 60657   \n",
       "4  180 N Michigan Ave #1720 Chicago, IL 60601   \n",
       "\n",
       "                                       Location  \n",
       "0                  POINT (-87.705330 41.805860)  \n",
       "1  POINT (-87.64124500000001 41.77981400000001)  \n",
       "2                  POINT (-87.699288 41.900481)  \n",
       "3                  POINT (-87.670228 41.941508)  \n",
       "4                  POINT (-87.624569 41.885151)  "
      ]
     },
     "execution_count": 144,
     "metadata": {},
     "output_type": "execute_result"
    }
   ],
   "source": [
    "testing_loc.head()"
   ]
  },
  {
   "cell_type": "code",
   "execution_count": 145,
   "metadata": {},
   "outputs": [
    {
     "name": "stderr",
     "output_type": "stream",
     "text": [
      "<ipython-input-145-5d2b73164e80>:8: SettingWithCopyWarning: \n",
      "A value is trying to be set on a copy of a slice from a DataFrame.\n",
      "Try using .loc[row_indexer,col_indexer] = value instead\n",
      "\n",
      "See the caveats in the documentation: https://pandas.pydata.org/pandas-docs/stable/user_guide/indexing.html#returning-a-view-versus-a-copy\n",
      "  coords['coords'] = coords['coords'].apply(wkt.loads)\n"
     ]
    }
   ],
   "source": [
    "import geopandas as gpd\n",
    "from scipy.spatial import cKDTree\n",
    "from shapely.geometry import Point\n",
    "from shapely import wkt\n",
    "\n",
    "# Coercing each geometry column from string to geometry object\n",
    "testing_loc['Location'] = testing_loc['Location'].apply(wkt.loads)\n",
    "coords['coords'] = coords['coords'].apply(wkt.loads)\n",
    "\n",
    "# Creating geometry dataframes\n",
    "gpd1 = gpd.GeoDataFrame(testing_loc, geometry='Location')\n",
    "\n",
    "gpd2 = gpd.GeoDataFrame(coords, geometry='coords')\n",
    "\n",
    "# Defining function for calculating nearest distance from each zip code to a testing center\n",
    "def ckdnearest(gdA, gdB):\n",
    "    nA = np.array(list(gdA.geometry.apply(lambda x: (x.x, x.y))))\n",
    "    nB = np.array(list(gdB.geometry.apply(lambda x: (x.x, x.y))))\n",
    "    btree = cKDTree(nB)\n",
    "    dist, idx = btree.query(nA, k=1)\n",
    "    gdf = pd.concat(\n",
    "        [gdA.reset_index(drop=True), gdB.loc[idx, gdB.columns != 'geometry'].reset_index(drop=True),\n",
    "         pd.Series(dist, name='dist')], axis=1)\n",
    "    return gdf\n",
    "\n",
    "# Reversing the order so that we get distance from zip codes to testing centers instead of testing \n",
    "# centers to zip codes\n",
    "df_distance = ckdnearest(gpd2, gpd1)"
   ]
  },
  {
   "cell_type": "code",
   "execution_count": 146,
   "metadata": {},
   "outputs": [],
   "source": [
    "# trim this down to only include distance, zip code, and posRate\n",
    "dist_posRate = df_distance[['ZCTA', 'dist']]"
   ]
  },
  {
   "cell_type": "code",
   "execution_count": 147,
   "metadata": {},
   "outputs": [
    {
     "data": {
      "text/html": [
       "<div>\n",
       "<style scoped>\n",
       "    .dataframe tbody tr th:only-of-type {\n",
       "        vertical-align: middle;\n",
       "    }\n",
       "\n",
       "    .dataframe tbody tr th {\n",
       "        vertical-align: top;\n",
       "    }\n",
       "\n",
       "    .dataframe thead th {\n",
       "        text-align: right;\n",
       "    }\n",
       "</style>\n",
       "<table border=\"1\" class=\"dataframe\">\n",
       "  <thead>\n",
       "    <tr style=\"text-align: right;\">\n",
       "      <th></th>\n",
       "      <th>ZCTA</th>\n",
       "      <th>dist</th>\n",
       "    </tr>\n",
       "  </thead>\n",
       "  <tbody>\n",
       "    <tr>\n",
       "      <th>0</th>\n",
       "      <td>60601</td>\n",
       "      <td>0.002052</td>\n",
       "    </tr>\n",
       "    <tr>\n",
       "      <th>1</th>\n",
       "      <td>60603</td>\n",
       "      <td>0.005119</td>\n",
       "    </tr>\n",
       "    <tr>\n",
       "      <th>2</th>\n",
       "      <td>60606</td>\n",
       "      <td>0.006805</td>\n",
       "    </tr>\n",
       "    <tr>\n",
       "      <th>3</th>\n",
       "      <td>60607</td>\n",
       "      <td>0.010535</td>\n",
       "    </tr>\n",
       "    <tr>\n",
       "      <th>4</th>\n",
       "      <td>60608</td>\n",
       "      <td>0.009333</td>\n",
       "    </tr>\n",
       "  </tbody>\n",
       "</table>\n",
       "</div>"
      ],
      "text/plain": [
       "    ZCTA      dist\n",
       "0  60601  0.002052\n",
       "1  60603  0.005119\n",
       "2  60606  0.006805\n",
       "3  60607  0.010535\n",
       "4  60608  0.009333"
      ]
     },
     "execution_count": 147,
     "metadata": {},
     "output_type": "execute_result"
    }
   ],
   "source": [
    "dist_posRate.head()"
   ]
  },
  {
   "cell_type": "code",
   "execution_count": 148,
   "metadata": {},
   "outputs": [],
   "source": [
    "# Merge into larger df\n",
    "fin_df = pd.merge(fin_df, dist_posRate, on='ZCTA')"
   ]
  },
  {
   "cell_type": "markdown",
   "metadata": {},
   "source": [
    "## Creating Column for Baseline 2-Week Avg Positvity Rate (2 weeks prior)"
   ]
  },
  {
   "cell_type": "code",
   "execution_count": 149,
   "metadata": {},
   "outputs": [],
   "source": [
    "baseline_pos = pd.read_csv('COVID-19_Cases__Tests__and_Deaths_by_ZIP_Code.csv')"
   ]
  },
  {
   "cell_type": "code",
   "execution_count": 150,
   "metadata": {},
   "outputs": [],
   "source": [
    "# Removing zip codes that are not in chicago\n",
    "baseline_pos = baseline_pos[(baseline_pos['ZIP Code']!= 'Unknown')&(baseline_pos['ZIP Code']!='60707')&(baseline_pos['ZIP Code']!='60827')&(baseline_pos['ZIP Code']!='60666')]\n"
   ]
  },
  {
   "cell_type": "code",
   "execution_count": 151,
   "metadata": {},
   "outputs": [],
   "source": [
    "baseline_pos = baseline_pos[(baseline_pos['Week Number']==weeks[-4])|(baseline_pos['Week Number']==weeks[-3])]"
   ]
  },
  {
   "cell_type": "code",
   "execution_count": 152,
   "metadata": {},
   "outputs": [],
   "source": [
    "# Calculate 2-week avg positivity rate for 2 weeks prior to analysis period\n",
    "prior_pos= pd.DataFrame(baseline_pos.groupby(['ZIP Code'])['Cases - Weekly'].sum()/baseline_pos.groupby(['ZIP Code'])['Tests - Weekly'].sum())\n"
   ]
  },
  {
   "cell_type": "code",
   "execution_count": 153,
   "metadata": {},
   "outputs": [],
   "source": [
    "# Convert to dataframe to merge \n",
    "prior_pos.reset_index(inplace=True)\n",
    "prior_pos.columns = ['ZCTA', '2weeksprior']"
   ]
  },
  {
   "cell_type": "code",
   "execution_count": 154,
   "metadata": {},
   "outputs": [],
   "source": [
    "# Filling null value with 0 for zero confirmed cases in OHare (because no residents)\n",
    "prior_pos['2weeksprior'] = prior_pos['2weeksprior'].fillna('0')"
   ]
  },
  {
   "cell_type": "code",
   "execution_count": 155,
   "metadata": {},
   "outputs": [],
   "source": [
    "# Merge into larger df\n",
    "fin_df = pd.merge(fin_df, prior_pos, on='ZCTA')"
   ]
  },
  {
   "cell_type": "code",
   "execution_count": 159,
   "metadata": {},
   "outputs": [],
   "source": [
    "fin_df.ZCTA = fin_df.ZCTA.astype(int)"
   ]
  },
  {
   "cell_type": "markdown",
   "metadata": {},
   "source": [
    "## Merging into Census Data"
   ]
  },
  {
   "cell_type": "code",
   "execution_count": 157,
   "metadata": {},
   "outputs": [],
   "source": [
    "census = pd.read_pickle(r'census_data_zcta.pickle')"
   ]
  },
  {
   "cell_type": "code",
   "execution_count": 160,
   "metadata": {},
   "outputs": [],
   "source": [
    "fin_df = pd.merge(census, fin_df, on='ZCTA')"
   ]
  },
  {
   "cell_type": "markdown",
   "metadata": {},
   "source": [
    "## Tailoring Features"
   ]
  },
  {
   "cell_type": "code",
   "execution_count": 164,
   "metadata": {},
   "outputs": [],
   "source": [
    "# Create column for 2-week average testing\n",
    "fin_df['testpercent'] = fin_df.tests2weeks/fin_df.totalPop"
   ]
  },
  {
   "cell_type": "code",
   "execution_count": 165,
   "metadata": {},
   "outputs": [],
   "source": [
    "# Remove tests2weeks since our target will be testpercent\n",
    "fin_df.drop(['tests2weeks'], axis=1, inplace=True)"
   ]
  },
  {
   "cell_type": "code",
   "execution_count": 167,
   "metadata": {},
   "outputs": [],
   "source": [
    "# Re-order columns so that both targets (testpercent and posRate) are at the end\n",
    "cols = list(fin_df.columns.values) #Make a list of all of the columns in the df\n",
    "cols.pop(cols.index('posRate')) #Remove b from list\n",
    "fin_df = fin_df[cols+['posRate']] #Create new dataframe with columns in the order you want"
   ]
  },
  {
   "cell_type": "markdown",
   "metadata": {},
   "source": [
    "## Creating Feature for Percentage Point Difference in posRate from previous 2 weeks"
   ]
  },
  {
   "cell_type": "code",
   "execution_count": 169,
   "metadata": {},
   "outputs": [
    {
     "name": "stderr",
     "output_type": "stream",
     "text": [
      "<ipython-input-169-4b5d87a9f367>:2: SettingWithCopyWarning: \n",
      "A value is trying to be set on a copy of a slice from a DataFrame.\n",
      "Try using .loc[row_indexer,col_indexer] = value instead\n",
      "\n",
      "See the caveats in the documentation: https://pandas.pydata.org/pandas-docs/stable/user_guide/indexing.html#returning-a-view-versus-a-copy\n",
      "  fin_df['percent_change_pos_rate'] = (fin_df['posRate'] - fin_df['2weeksprior'])\n"
     ]
    }
   ],
   "source": [
    "# Calculating percentage point difference in positivity rates between prior two weeks and most recent 2 weeks.\n",
    "fin_df['percent_change_pos_rate'] = (fin_df['posRate'] - fin_df['2weeksprior'])"
   ]
  },
  {
   "cell_type": "code",
   "execution_count": 172,
   "metadata": {},
   "outputs": [
    {
     "data": {
      "text/html": [
       "<div>\n",
       "<style scoped>\n",
       "    .dataframe tbody tr th:only-of-type {\n",
       "        vertical-align: middle;\n",
       "    }\n",
       "\n",
       "    .dataframe tbody tr th {\n",
       "        vertical-align: top;\n",
       "    }\n",
       "\n",
       "    .dataframe thead th {\n",
       "        text-align: right;\n",
       "    }\n",
       "</style>\n",
       "<table border=\"1\" class=\"dataframe\">\n",
       "  <thead>\n",
       "    <tr style=\"text-align: right;\">\n",
       "      <th></th>\n",
       "      <th>ZCTA</th>\n",
       "      <th>totalPop</th>\n",
       "      <th>medianAge</th>\n",
       "      <th>medianHHInc</th>\n",
       "      <th>mean_HHsize</th>\n",
       "      <th>pctHispanic</th>\n",
       "      <th>pctBlack</th>\n",
       "      <th>pctWhite</th>\n",
       "      <th>pctUndocumented</th>\n",
       "      <th>pctUndocumentedFBLA</th>\n",
       "      <th>pctUninsured</th>\n",
       "      <th>pctUnemployed</th>\n",
       "      <th>pctHealthWorkers</th>\n",
       "      <th>pctEssential</th>\n",
       "      <th>dist</th>\n",
       "      <th>2weeksprior</th>\n",
       "      <th>testpercent</th>\n",
       "      <th>posRate</th>\n",
       "      <th>percent_change_pos_rate</th>\n",
       "    </tr>\n",
       "  </thead>\n",
       "  <tbody>\n",
       "    <tr>\n",
       "      <th>0</th>\n",
       "      <td>60601</td>\n",
       "      <td>14675.0</td>\n",
       "      <td>34.9</td>\n",
       "      <td>103243.0</td>\n",
       "      <td>1.655573</td>\n",
       "      <td>0.086814</td>\n",
       "      <td>0.055741</td>\n",
       "      <td>0.741670</td>\n",
       "      <td>0.239387</td>\n",
       "      <td>0.035434</td>\n",
       "      <td>0.029972</td>\n",
       "      <td>0.040341</td>\n",
       "      <td>0.083543</td>\n",
       "      <td>0.145963</td>\n",
       "      <td>0.002052</td>\n",
       "      <td>0.037657</td>\n",
       "      <td>0.077888</td>\n",
       "      <td>0.054243</td>\n",
       "      <td>0.016586</td>\n",
       "    </tr>\n",
       "    <tr>\n",
       "      <th>1</th>\n",
       "      <td>60602</td>\n",
       "      <td>1244.0</td>\n",
       "      <td>30.6</td>\n",
       "      <td>157125.0</td>\n",
       "      <td>2.066445</td>\n",
       "      <td>0.065113</td>\n",
       "      <td>0.037781</td>\n",
       "      <td>0.681672</td>\n",
       "      <td>0.117363</td>\n",
       "      <td>0.047428</td>\n",
       "      <td>0.008842</td>\n",
       "      <td>0.000804</td>\n",
       "      <td>0.126206</td>\n",
       "      <td>0.245981</td>\n",
       "      <td>0.004248</td>\n",
       "      <td>0.065421</td>\n",
       "      <td>0.083601</td>\n",
       "      <td>0.048077</td>\n",
       "      <td>-0.017344</td>\n",
       "    </tr>\n",
       "    <tr>\n",
       "      <th>2</th>\n",
       "      <td>60603</td>\n",
       "      <td>1174.0</td>\n",
       "      <td>28.9</td>\n",
       "      <td>151765.0</td>\n",
       "      <td>2.081560</td>\n",
       "      <td>0.097956</td>\n",
       "      <td>0.032368</td>\n",
       "      <td>0.634583</td>\n",
       "      <td>0.160136</td>\n",
       "      <td>0.000000</td>\n",
       "      <td>0.069847</td>\n",
       "      <td>0.055366</td>\n",
       "      <td>0.080068</td>\n",
       "      <td>0.231687</td>\n",
       "      <td>0.005119</td>\n",
       "      <td>0.034483</td>\n",
       "      <td>0.061329</td>\n",
       "      <td>0.041667</td>\n",
       "      <td>0.007184</td>\n",
       "    </tr>\n",
       "    <tr>\n",
       "      <th>3</th>\n",
       "      <td>60604</td>\n",
       "      <td>782.0</td>\n",
       "      <td>32.4</td>\n",
       "      <td>116250.0</td>\n",
       "      <td>1.632568</td>\n",
       "      <td>0.043478</td>\n",
       "      <td>0.056266</td>\n",
       "      <td>0.634271</td>\n",
       "      <td>0.162404</td>\n",
       "      <td>0.008951</td>\n",
       "      <td>0.003836</td>\n",
       "      <td>0.057545</td>\n",
       "      <td>0.067775</td>\n",
       "      <td>0.125320</td>\n",
       "      <td>0.008123</td>\n",
       "      <td>0.026667</td>\n",
       "      <td>0.084399</td>\n",
       "      <td>0.090909</td>\n",
       "      <td>0.064242</td>\n",
       "    </tr>\n",
       "    <tr>\n",
       "      <th>4</th>\n",
       "      <td>60605</td>\n",
       "      <td>27519.0</td>\n",
       "      <td>33.9</td>\n",
       "      <td>111164.0</td>\n",
       "      <td>1.984782</td>\n",
       "      <td>0.058432</td>\n",
       "      <td>0.171772</td>\n",
       "      <td>0.612050</td>\n",
       "      <td>0.103601</td>\n",
       "      <td>0.013700</td>\n",
       "      <td>0.026408</td>\n",
       "      <td>0.025146</td>\n",
       "      <td>0.101821</td>\n",
       "      <td>0.252516</td>\n",
       "      <td>0.008169</td>\n",
       "      <td>0.033480</td>\n",
       "      <td>0.086231</td>\n",
       "      <td>0.063211</td>\n",
       "      <td>0.029731</td>\n",
       "    </tr>\n",
       "  </tbody>\n",
       "</table>\n",
       "</div>"
      ],
      "text/plain": [
       "    ZCTA  totalPop  medianAge  medianHHInc  mean_HHsize  pctHispanic  \\\n",
       "0  60601   14675.0       34.9     103243.0     1.655573     0.086814   \n",
       "1  60602    1244.0       30.6     157125.0     2.066445     0.065113   \n",
       "2  60603    1174.0       28.9     151765.0     2.081560     0.097956   \n",
       "3  60604     782.0       32.4     116250.0     1.632568     0.043478   \n",
       "4  60605   27519.0       33.9     111164.0     1.984782     0.058432   \n",
       "\n",
       "   pctBlack  pctWhite  pctUndocumented  pctUndocumentedFBLA  pctUninsured  \\\n",
       "0  0.055741  0.741670         0.239387             0.035434      0.029972   \n",
       "1  0.037781  0.681672         0.117363             0.047428      0.008842   \n",
       "2  0.032368  0.634583         0.160136             0.000000      0.069847   \n",
       "3  0.056266  0.634271         0.162404             0.008951      0.003836   \n",
       "4  0.171772  0.612050         0.103601             0.013700      0.026408   \n",
       "\n",
       "   pctUnemployed  pctHealthWorkers  pctEssential      dist  2weeksprior  \\\n",
       "0       0.040341          0.083543      0.145963  0.002052     0.037657   \n",
       "1       0.000804          0.126206      0.245981  0.004248     0.065421   \n",
       "2       0.055366          0.080068      0.231687  0.005119     0.034483   \n",
       "3       0.057545          0.067775      0.125320  0.008123     0.026667   \n",
       "4       0.025146          0.101821      0.252516  0.008169     0.033480   \n",
       "\n",
       "   testpercent   posRate  percent_change_pos_rate  \n",
       "0     0.077888  0.054243                 0.016586  \n",
       "1     0.083601  0.048077                -0.017344  \n",
       "2     0.061329  0.041667                 0.007184  \n",
       "3     0.084399  0.090909                 0.064242  \n",
       "4     0.086231  0.063211                 0.029731  "
      ]
     },
     "execution_count": 172,
     "metadata": {},
     "output_type": "execute_result"
    }
   ],
   "source": [
    "fin_df.head()"
   ]
  },
  {
   "cell_type": "code",
   "execution_count": 174,
   "metadata": {},
   "outputs": [],
   "source": [
    "# Pickle data frame to merge later\n",
    "import pickle\n",
    "pickle_out = open('complete_df.pickle', 'wb')\n",
    "pickle.dump(fin_df, pickle_out)\n",
    "pickle_out.close()"
   ]
  },
  {
   "cell_type": "code",
   "execution_count": null,
   "metadata": {},
   "outputs": [],
   "source": []
  }
 ],
 "metadata": {
  "kernelspec": {
   "display_name": "Python 3",
   "language": "python",
   "name": "python3"
  },
  "language_info": {
   "codemirror_mode": {
    "name": "ipython",
    "version": 3
   },
   "file_extension": ".py",
   "mimetype": "text/x-python",
   "name": "python",
   "nbconvert_exporter": "python",
   "pygments_lexer": "ipython3",
   "version": "3.8.3"
  }
 },
 "nbformat": 4,
 "nbformat_minor": 4
}
