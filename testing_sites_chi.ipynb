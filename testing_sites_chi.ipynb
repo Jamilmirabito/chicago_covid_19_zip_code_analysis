{
 "cells": [
  {
   "cell_type": "markdown",
   "metadata": {},
   "source": [
    "# Testing Sites Data Frame"
   ]
  },
  {
   "cell_type": "code",
   "execution_count": 57,
   "metadata": {},
   "outputs": [],
   "source": [
    "import pandas as pd\n",
    "import numpy as np\n",
    "pd.set_option('display.max_rows', 150)"
   ]
  },
  {
   "cell_type": "code",
   "execution_count": 58,
   "metadata": {},
   "outputs": [],
   "source": [
    "df = pd.read_csv('COVID-19_Testing_Sites.csv')"
   ]
  },
  {
   "cell_type": "code",
   "execution_count": 59,
   "metadata": {},
   "outputs": [
    {
     "name": "stdout",
     "output_type": "stream",
     "text": [
      "(132, 5)\n"
     ]
    },
    {
     "data": {
      "text/html": [
       "<div>\n",
       "<style scoped>\n",
       "    .dataframe tbody tr th:only-of-type {\n",
       "        vertical-align: middle;\n",
       "    }\n",
       "\n",
       "    .dataframe tbody tr th {\n",
       "        vertical-align: top;\n",
       "    }\n",
       "\n",
       "    .dataframe thead th {\n",
       "        text-align: right;\n",
       "    }\n",
       "</style>\n",
       "<table border=\"1\" class=\"dataframe\">\n",
       "  <thead>\n",
       "    <tr style=\"text-align: right;\">\n",
       "      <th></th>\n",
       "      <th>Facility</th>\n",
       "      <th>Phone</th>\n",
       "      <th>Address</th>\n",
       "      <th>Web Site</th>\n",
       "      <th>Location</th>\n",
       "    </tr>\n",
       "  </thead>\n",
       "  <tbody>\n",
       "    <tr>\n",
       "      <th>0</th>\n",
       "      <td>ACCESS Kedzie Family Health Center</td>\n",
       "      <td>(800) 836-7633</td>\n",
       "      <td>3229-3243 W 47th Pl Chicago, IL 60632</td>\n",
       "      <td>https://www.achn.net</td>\n",
       "      <td>NaN</td>\n",
       "    </tr>\n",
       "    <tr>\n",
       "      <th>1</th>\n",
       "      <td>Howard Brown Health 63rd St</td>\n",
       "      <td>(773) 388-1600</td>\n",
       "      <td>641 W 63rd St Chicago, IL 60621</td>\n",
       "      <td>https://howardbrown.org</td>\n",
       "      <td>POINT (-87.64124500000001 41.77981400000001)</td>\n",
       "    </tr>\n",
       "    <tr>\n",
       "      <th>2</th>\n",
       "      <td>Norwegian American Hospital</td>\n",
       "      <td>(773) 292-8363</td>\n",
       "      <td>1044 N Francisco Ave Chicago, IL 60622</td>\n",
       "      <td>https://www.nahospital.org/</td>\n",
       "      <td>POINT (-87.699288 41.900481)</td>\n",
       "    </tr>\n",
       "    <tr>\n",
       "      <th>3</th>\n",
       "      <td>Aayu Clinics - Lakeview</td>\n",
       "      <td>(773) 227-3669</td>\n",
       "      <td>1645 A W School St Chicago, IL 60657</td>\n",
       "      <td>https://www.aayuclinics.com/services-1</td>\n",
       "      <td>POINT (-87.670228 41.941508)</td>\n",
       "    </tr>\n",
       "    <tr>\n",
       "      <th>4</th>\n",
       "      <td>Michigan Avenue Primary Care</td>\n",
       "      <td>(312) 994-3000</td>\n",
       "      <td>180 N Michigan Ave #1720 Chicago, IL 60601</td>\n",
       "      <td>https://www.michiganavenueprimarycare.com/covi...</td>\n",
       "      <td>POINT (-87.624569 41.885151)</td>\n",
       "    </tr>\n",
       "  </tbody>\n",
       "</table>\n",
       "</div>"
      ],
      "text/plain": [
       "                             Facility           Phone  \\\n",
       "0  ACCESS Kedzie Family Health Center  (800) 836-7633   \n",
       "1         Howard Brown Health 63rd St  (773) 388-1600   \n",
       "2         Norwegian American Hospital  (773) 292-8363   \n",
       "3             Aayu Clinics - Lakeview  (773) 227-3669   \n",
       "4        Michigan Avenue Primary Care  (312) 994-3000   \n",
       "\n",
       "                                      Address  \\\n",
       "0       3229-3243 W 47th Pl Chicago, IL 60632   \n",
       "1             641 W 63rd St Chicago, IL 60621   \n",
       "2      1044 N Francisco Ave Chicago, IL 60622   \n",
       "3        1645 A W School St Chicago, IL 60657   \n",
       "4  180 N Michigan Ave #1720 Chicago, IL 60601   \n",
       "\n",
       "                                            Web Site  \\\n",
       "0                               https://www.achn.net   \n",
       "1                            https://howardbrown.org   \n",
       "2                        https://www.nahospital.org/   \n",
       "3             https://www.aayuclinics.com/services-1   \n",
       "4  https://www.michiganavenueprimarycare.com/covi...   \n",
       "\n",
       "                                       Location  \n",
       "0                                           NaN  \n",
       "1  POINT (-87.64124500000001 41.77981400000001)  \n",
       "2                  POINT (-87.699288 41.900481)  \n",
       "3                  POINT (-87.670228 41.941508)  \n",
       "4                  POINT (-87.624569 41.885151)  "
      ]
     },
     "execution_count": 59,
     "metadata": {},
     "output_type": "execute_result"
    }
   ],
   "source": [
    "print(df.shape)\n",
    "df.head()"
   ]
  },
  {
   "cell_type": "code",
   "execution_count": 60,
   "metadata": {},
   "outputs": [],
   "source": [
    "df = df[['Facility', 'Address', 'Location']]"
   ]
  },
  {
   "cell_type": "code",
   "execution_count": 61,
   "metadata": {},
   "outputs": [],
   "source": [
    "df.Location[0] = 'POINT (-87.705330 41.805860)'"
   ]
  },
  {
   "cell_type": "code",
   "execution_count": 62,
   "metadata": {},
   "outputs": [
    {
     "data": {
      "text/plain": [
       "(131, 3)"
      ]
     },
     "execution_count": 62,
     "metadata": {},
     "output_type": "execute_result"
    }
   ],
   "source": [
    "# Dropping Howard Brown Health Mobile since there is no specific location attached to the testing site\n",
    "df.dropna(inplace=True)\n",
    "df.shape"
   ]
  },
  {
   "cell_type": "code",
   "execution_count": 63,
   "metadata": {},
   "outputs": [],
   "source": [
    "# import pickle with zip code coordinates\n",
    "import pickle\n",
    "zip_coords = pd.read_pickle(r'2_week_pos.pickle')"
   ]
  },
  {
   "cell_type": "code",
   "execution_count": 64,
   "metadata": {},
   "outputs": [
    {
     "data": {
      "text/html": [
       "<div>\n",
       "<style scoped>\n",
       "    .dataframe tbody tr th:only-of-type {\n",
       "        vertical-align: middle;\n",
       "    }\n",
       "\n",
       "    .dataframe tbody tr th {\n",
       "        vertical-align: top;\n",
       "    }\n",
       "\n",
       "    .dataframe thead th {\n",
       "        text-align: right;\n",
       "    }\n",
       "</style>\n",
       "<table border=\"1\" class=\"dataframe\">\n",
       "  <thead>\n",
       "    <tr style=\"text-align: right;\">\n",
       "      <th></th>\n",
       "      <th>ZCTA</th>\n",
       "      <th>posRate</th>\n",
       "      <th>coords</th>\n",
       "    </tr>\n",
       "  </thead>\n",
       "  <tbody>\n",
       "    <tr>\n",
       "      <th>0</th>\n",
       "      <td>60601</td>\n",
       "      <td>0.0407524</td>\n",
       "      <td>POINT (-87.622844 41.886262)</td>\n",
       "    </tr>\n",
       "    <tr>\n",
       "      <th>1</th>\n",
       "      <td>60602</td>\n",
       "      <td>0.0722892</td>\n",
       "      <td>POINT (-87.628309 41.883136)</td>\n",
       "    </tr>\n",
       "    <tr>\n",
       "      <th>2</th>\n",
       "      <td>60603</td>\n",
       "      <td>0.0149254</td>\n",
       "      <td>POINT (-87.625473 41.880112)</td>\n",
       "    </tr>\n",
       "    <tr>\n",
       "      <th>3</th>\n",
       "      <td>60604</td>\n",
       "      <td>0.0133333</td>\n",
       "      <td>POINT (-87.629029 41.878153)</td>\n",
       "    </tr>\n",
       "    <tr>\n",
       "      <th>4</th>\n",
       "      <td>60605</td>\n",
       "      <td>0.0373884</td>\n",
       "      <td>POINT (-87.623449 41.867824)</td>\n",
       "    </tr>\n",
       "  </tbody>\n",
       "</table>\n",
       "</div>"
      ],
      "text/plain": [
       "    ZCTA    posRate                        coords\n",
       "0  60601  0.0407524  POINT (-87.622844 41.886262)\n",
       "1  60602  0.0722892  POINT (-87.628309 41.883136)\n",
       "2  60603  0.0149254  POINT (-87.625473 41.880112)\n",
       "3  60604  0.0133333  POINT (-87.629029 41.878153)\n",
       "4  60605  0.0373884  POINT (-87.623449 41.867824)"
      ]
     },
     "execution_count": 64,
     "metadata": {},
     "output_type": "execute_result"
    }
   ],
   "source": [
    "zip_coords.head()"
   ]
  },
  {
   "cell_type": "code",
   "execution_count": 65,
   "metadata": {},
   "outputs": [],
   "source": [
    "import geopandas as gpd\n",
    "from scipy.spatial import cKDTree\n",
    "from shapely.geometry import Point\n",
    "from shapely import wkt\n",
    "\n",
    "# Coercing each geometry column from string to geometry object\n",
    "df['Location'] = df['Location'].apply(wkt.loads)\n",
    "zip_coords['coords'] = zip_coords['coords'].apply(wkt.loads)\n",
    "\n",
    "# Creating geometry dataframes\n",
    "gpd1 = gpd.GeoDataFrame(df, geometry='Location')\n",
    "\n",
    "gpd2 = gpd.GeoDataFrame(zip_coords, geometry='coords')\n",
    "\n",
    "# Defining function for calculating nearest distance from each zip code to a testing center\n",
    "def ckdnearest(gdA, gdB):\n",
    "    nA = np.array(list(gdA.geometry.apply(lambda x: (x.x, x.y))))\n",
    "    nB = np.array(list(gdB.geometry.apply(lambda x: (x.x, x.y))))\n",
    "    btree = cKDTree(nB)\n",
    "    dist, idx = btree.query(nA, k=1)\n",
    "    gdf = pd.concat(\n",
    "        [gdA.reset_index(drop=True), gdB.loc[idx, gdB.columns != 'geometry'].reset_index(drop=True),\n",
    "         pd.Series(dist, name='dist')], axis=1)\n",
    "    return gdf\n",
    "\n",
    "# Reversing the order so that we get distance from zip codes to testing centers instead of testing \n",
    "# centers to zip codes\n",
    "df_distance = ckdnearest(gpd2, gpd1)"
   ]
  },
  {
   "cell_type": "code",
   "execution_count": 66,
   "metadata": {},
   "outputs": [
    {
     "data": {
      "text/html": [
       "<div>\n",
       "<style scoped>\n",
       "    .dataframe tbody tr th:only-of-type {\n",
       "        vertical-align: middle;\n",
       "    }\n",
       "\n",
       "    .dataframe tbody tr th {\n",
       "        vertical-align: top;\n",
       "    }\n",
       "\n",
       "    .dataframe thead th {\n",
       "        text-align: right;\n",
       "    }\n",
       "</style>\n",
       "<table border=\"1\" class=\"dataframe\">\n",
       "  <thead>\n",
       "    <tr style=\"text-align: right;\">\n",
       "      <th></th>\n",
       "      <th>ZCTA</th>\n",
       "      <th>posRate</th>\n",
       "      <th>coords</th>\n",
       "      <th>Facility</th>\n",
       "      <th>Address</th>\n",
       "      <th>Location</th>\n",
       "      <th>dist</th>\n",
       "    </tr>\n",
       "  </thead>\n",
       "  <tbody>\n",
       "    <tr>\n",
       "      <th>0</th>\n",
       "      <td>60601</td>\n",
       "      <td>0.0407524</td>\n",
       "      <td>POINT (-87.62284 41.88626)</td>\n",
       "      <td>Near North Health Service Corporation: Winfiel...</td>\n",
       "      <td>1276 N Clybourn Ave Chicago, IL 60610</td>\n",
       "      <td>POINT (-87.64184 41.90541)</td>\n",
       "      <td>0.002052</td>\n",
       "    </tr>\n",
       "    <tr>\n",
       "      <th>1</th>\n",
       "      <td>60602</td>\n",
       "      <td>0.0722892</td>\n",
       "      <td>POINT (-87.62831 41.88314)</td>\n",
       "      <td>Near North Health Service Corporation: Winfiel...</td>\n",
       "      <td>1276 N Clybourn Ave Chicago, IL 60610</td>\n",
       "      <td>POINT (-87.64184 41.90541)</td>\n",
       "      <td>0.004248</td>\n",
       "    </tr>\n",
       "    <tr>\n",
       "      <th>2</th>\n",
       "      <td>60603</td>\n",
       "      <td>0.0149254</td>\n",
       "      <td>POINT (-87.62547 41.88011)</td>\n",
       "      <td>Near North Health Service Corporation: Winfiel...</td>\n",
       "      <td>1276 N Clybourn Ave Chicago, IL 60610</td>\n",
       "      <td>POINT (-87.64184 41.90541)</td>\n",
       "      <td>0.005119</td>\n",
       "    </tr>\n",
       "    <tr>\n",
       "      <th>3</th>\n",
       "      <td>60604</td>\n",
       "      <td>0.0133333</td>\n",
       "      <td>POINT (-87.62903 41.87815)</td>\n",
       "      <td>Cedar Crosse Research Center</td>\n",
       "      <td>800 S Wells St Suite M-15 Chicago, IL 60607</td>\n",
       "      <td>POINT (-87.63355 41.87140)</td>\n",
       "      <td>0.008123</td>\n",
       "    </tr>\n",
       "    <tr>\n",
       "      <th>4</th>\n",
       "      <td>60605</td>\n",
       "      <td>0.0373884</td>\n",
       "      <td>POINT (-87.62345 41.86782)</td>\n",
       "      <td>Clear Wellness Group</td>\n",
       "      <td>1605 S Michigan Ave #1 Chicago, IL 60616</td>\n",
       "      <td>POINT (-87.62399 41.85967)</td>\n",
       "      <td>0.008169</td>\n",
       "    </tr>\n",
       "  </tbody>\n",
       "</table>\n",
       "</div>"
      ],
      "text/plain": [
       "    ZCTA    posRate                      coords  \\\n",
       "0  60601  0.0407524  POINT (-87.62284 41.88626)   \n",
       "1  60602  0.0722892  POINT (-87.62831 41.88314)   \n",
       "2  60603  0.0149254  POINT (-87.62547 41.88011)   \n",
       "3  60604  0.0133333  POINT (-87.62903 41.87815)   \n",
       "4  60605  0.0373884  POINT (-87.62345 41.86782)   \n",
       "\n",
       "                                            Facility  \\\n",
       "0  Near North Health Service Corporation: Winfiel...   \n",
       "1  Near North Health Service Corporation: Winfiel...   \n",
       "2  Near North Health Service Corporation: Winfiel...   \n",
       "3                       Cedar Crosse Research Center   \n",
       "4                               Clear Wellness Group   \n",
       "\n",
       "                                       Address                    Location  \\\n",
       "0        1276 N Clybourn Ave Chicago, IL 60610  POINT (-87.64184 41.90541)   \n",
       "1        1276 N Clybourn Ave Chicago, IL 60610  POINT (-87.64184 41.90541)   \n",
       "2        1276 N Clybourn Ave Chicago, IL 60610  POINT (-87.64184 41.90541)   \n",
       "3  800 S Wells St Suite M-15 Chicago, IL 60607  POINT (-87.63355 41.87140)   \n",
       "4     1605 S Michigan Ave #1 Chicago, IL 60616  POINT (-87.62399 41.85967)   \n",
       "\n",
       "       dist  \n",
       "0  0.002052  \n",
       "1  0.004248  \n",
       "2  0.005119  \n",
       "3  0.008123  \n",
       "4  0.008169  "
      ]
     },
     "execution_count": 66,
     "metadata": {},
     "output_type": "execute_result"
    }
   ],
   "source": [
    "df_distance.head()"
   ]
  },
  {
   "cell_type": "code",
   "execution_count": 67,
   "metadata": {},
   "outputs": [
    {
     "data": {
      "text/plain": [
       "(59, 7)"
      ]
     },
     "execution_count": 67,
     "metadata": {},
     "output_type": "execute_result"
    }
   ],
   "source": [
    "df_distance.shape"
   ]
  },
  {
   "cell_type": "code",
   "execution_count": 68,
   "metadata": {},
   "outputs": [],
   "source": [
    "# trim this down to only include distance, zip code, and posRate\n",
    "dist_posRate = df_distance[['ZCTA', 'posRate', 'dist']]"
   ]
  },
  {
   "cell_type": "code",
   "execution_count": 69,
   "metadata": {},
   "outputs": [],
   "source": [
    "import pickle\n",
    "pickle_out = open('dist_posRate.pickle', 'wb')\n",
    "pickle.dump(dist_posRate, pickle_out)\n",
    "pickle_out.close()"
   ]
  },
  {
   "cell_type": "code",
   "execution_count": null,
   "metadata": {},
   "outputs": [],
   "source": []
  }
 ],
 "metadata": {
  "kernelspec": {
   "display_name": "Python 3",
   "language": "python",
   "name": "python3"
  },
  "language_info": {
   "codemirror_mode": {
    "name": "ipython",
    "version": 3
   },
   "file_extension": ".py",
   "mimetype": "text/x-python",
   "name": "python",
   "nbconvert_exporter": "python",
   "pygments_lexer": "ipython3",
   "version": "3.8.3"
  }
 },
 "nbformat": 4,
 "nbformat_minor": 4
}
